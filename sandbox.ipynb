{
    "cells": [
        {
            "cell_type": "code",
            "execution_count": 1,
            "source": [
                "from src.bytes_operations import *\n",
                "from src.keygen import Keygen\n",
                "from src.aes import AES\n",
                "from src.ocb import OCB"
            ],
            "outputs": [],
            "metadata": {}
        },
        {
            "cell_type": "code",
            "execution_count": 16,
            "source": [
                "key = bytearray().fromhex(\"000102030405060708090A0B0C0D0E0F\")\n",
                "nonce = bytearray().fromhex(\"000102030405060708090A0B0C0D0E0F\")\n",
                "#nonce = range(16)\n",
                "header = bytearray(b\"\")\n",
                "plaintext = bytearray().fromhex(\"0001020304050607\")\n",
                "\n",
                "ocb = OCB(AES())\n",
                "ocb.set_params(key, nonce)\n",
                "tag, ciphertext = ocb.encrypt(plaintext, header)\n",
                "\n",
                "import binascii\n",
                "\n",
                "binascii.hexlify(tag)\n",
                "\n"
            ],
            "outputs": [
                {
                    "output_type": "execute_result",
                    "data": {
                        "text/plain": [
                            "b'a45f5fdea5c088d1d7c8be37cabc8c5c'"
                        ]
                    },
                    "metadata": {},
                    "execution_count": 16
                }
            ],
            "metadata": {}
        },
        {
            "cell_type": "code",
            "execution_count": 9,
            "source": [
                "import secrets\n",
                "secrets.token_hex(16)\n",
                "'a4 5fcfec3368 2bb7e0bea8 fabe30da27'"
            ],
            "outputs": [
                {
                    "output_type": "execute_result",
                    "data": {
                        "text/plain": [
                            "'a45fcfec33682bb7e0bea8fabe30da27'"
                        ]
                    },
                    "metadata": {},
                    "execution_count": 9
                }
            ],
            "metadata": {}
        },
        {
            "cell_type": "code",
            "execution_count": null,
            "source": [],
            "outputs": [],
            "metadata": {}
        }
    ],
    "metadata": {
        "orig_nbformat": 4,
        "language_info": {
            "name": "python",
            "version": "3.9.5",
            "mimetype": "text/x-python",
            "codemirror_mode": {
                "name": "ipython",
                "version": 3
            },
            "pygments_lexer": "ipython3",
            "nbconvert_exporter": "python",
            "file_extension": ".py"
        },
        "kernelspec": {
            "name": "python3",
            "display_name": "Python 3.9.5 64-bit ('venv': venv)"
        },
        "interpreter": {
            "hash": "cba0b1baf1b0d05316925d776d41148c637b61df3dd03718a7242490042be2e7"
        }
    },
    "nbformat": 4,
    "nbformat_minor": 2
}